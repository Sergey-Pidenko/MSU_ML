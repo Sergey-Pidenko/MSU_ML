{
 "cells": [
  {
   "cell_type": "markdown",
   "id": "f48a357d",
   "metadata": {
    "toc": true
   },
   "source": [
    "<h1>Table of Contents<span class=\"tocSkip\"></span></h1>\n",
    "<div class=\"toc\"><ul class=\"toc-item\"><li><span><a href=\"#Сomparison-with-sklearn.neighbors.KNeighborsClassifier\" data-toc-modified-id=\"Сomparison-with-sklearn.neighbors.KNeighborsClassifier-1\"><span class=\"toc-item-num\">1&nbsp;&nbsp;</span>Сomparison with sklearn.neighbors.KNeighborsClassifier</a></span></li></ul></div>"
   ]
  },
  {
   "cell_type": "markdown",
   "id": "9426b626",
   "metadata": {},
   "source": [
    "# Creating class KNN_classifier\n",
    "\n",
    "Several classes (>2) are used in this task"
   ]
  },
  {
   "cell_type": "code",
   "execution_count": 1,
   "id": "b1df778d",
   "metadata": {},
   "outputs": [],
   "source": [
    "from sklearn.neighbors import KNeighborsClassifier"
   ]
  },
  {
   "cell_type": "code",
   "execution_count": 2,
   "id": "8eee0d1c",
   "metadata": {},
   "outputs": [],
   "source": [
    "import numpy as np\n",
    "\n",
    "class KNN_classifier:\n",
    "    def __init__(self, n_neighbors: int, **kwargs):\n",
    "        self.K = n_neighbors\n",
    "\n",
    "    def fit(self, x: np.array, y: np.array):\n",
    "        self.X = x\n",
    "        self.y = y\n",
    "\n",
    "    def predict(self, x: np.array):\n",
    "        classes = sorted(list(set(self.y)))\n",
    "        predictions = []\n",
    "            \n",
    "        for item in x:\n",
    "            dct = {}\n",
    "            for i in classes: \n",
    "                dct[i] = 0 \n",
    "            buf = self.X.copy() - item\n",
    "            buf = list(map(lambda x: (x**2).sum(), buf))\n",
    "            tup = [tuple((buf[i],self.y[i])) for i in range(len(self.y))]\n",
    "            tup.sort(key=lambda x: x[0])\n",
    "            tup = tup[:self.K]\n",
    "            for elem in tup: \n",
    "                dct[elem[1]] += 1\n",
    "            res = max(dct , key=dct.get)\n",
    "            predictions.append(res)\n",
    "            \n",
    "        predictions = np.array(predictions)\n",
    "        return predictions"
   ]
  },
  {
   "cell_type": "code",
   "execution_count": 3,
   "id": "47ae2387",
   "metadata": {},
   "outputs": [],
   "source": [
    "X = np.array([[ 0.56510722,  0.68599596, -0.92388505, -0.29546048, -0.12437532],\n",
    "       [-0.79617537,  0.98406791,  1.19542652, -0.05626863, -0.69868076],\n",
    "       [ 0.9629688 , -1.00423925, -0.53842833, -0.23744358,  0.83226685],\n",
    "       [ 0.24671269, -0.41624448,  0.81679337,  1.59227446,  0.16192583],\n",
    "       [-0.36972363,  0.17425997,  1.33668078,  1.16687907,  0.31709134],\n",
    "       [-1.30482844, -0.05354323, -0.88862186, -1.121785  , -0.78442809],\n",
    "       [-0.53975018,  0.90074877, -1.09317408,  1.52989481, -0.43375015],\n",
    "       [-0.64709803, -0.09775791,  1.3506503 , -1.46957788,  1.63325543],\n",
    "       [-0.73858464, -0.60678229,  0.31420272, -0.43100129, -0.37665876],\n",
    "       [-0.29208809, -0.68795722,  0.06586655,  0.9583851 ,  1.70640775]])\n",
    "\n",
    "y = np.array([1, 2, 0, 1, 2, 1, 2, 1, 2, 2])\n",
    "\n",
    "X_test = np.array([[-0.12489725,  0.65791923, -0.73112495,  1.42660225,  1.64728976],\n",
    "       [ 0.01913388, -1.11351208, -0.63244098, -0.98121107,  0.38060892],\n",
    "       [-0.92074931,  1.39812225,  0.39692147,  0.7717827 ,  0.44604002]])"
   ]
  },
  {
   "cell_type": "markdown",
   "id": "4f582df1",
   "metadata": {},
   "source": [
    "## Сomparison with sklearn.neighbors.KNeighborsClassifier"
   ]
  },
  {
   "cell_type": "code",
   "execution_count": 4,
   "id": "91b72cb3",
   "metadata": {},
   "outputs": [
    {
     "data": {
      "text/plain": [
       "array([2, 0, 2])"
      ]
     },
     "execution_count": 4,
     "metadata": {},
     "output_type": "execute_result"
    }
   ],
   "source": [
    "knn = KNN_classifier(n_neighbors=3)\n",
    "knn.fit(X, y)\n",
    "knn.predict(X_test)"
   ]
  },
  {
   "cell_type": "code",
   "execution_count": 5,
   "id": "91644f25",
   "metadata": {},
   "outputs": [
    {
     "data": {
      "text/plain": [
       "array([2, 0, 2])"
      ]
     },
     "execution_count": 5,
     "metadata": {},
     "output_type": "execute_result"
    }
   ],
   "source": [
    "knn_1 = KNeighborsClassifier(n_neighbors=3)\n",
    "knn_1.fit(X, y)\n",
    "knn_1.predict(X_test)"
   ]
  }
 ],
 "metadata": {
  "kernelspec": {
   "display_name": "Python 3 (ipykernel)",
   "language": "python",
   "name": "python3"
  },
  "language_info": {
   "codemirror_mode": {
    "name": "ipython",
    "version": 3
   },
   "file_extension": ".py",
   "mimetype": "text/x-python",
   "name": "python",
   "nbconvert_exporter": "python",
   "pygments_lexer": "ipython3",
   "version": "3.9.7"
  },
  "toc": {
   "base_numbering": 1,
   "nav_menu": {},
   "number_sections": true,
   "sideBar": true,
   "skip_h1_title": true,
   "title_cell": "Table of Contents",
   "title_sidebar": "Contents",
   "toc_cell": true,
   "toc_position": {
    "height": "calc(100% - 180px)",
    "left": "10px",
    "top": "150px",
    "width": "200.8px"
   },
   "toc_section_display": true,
   "toc_window_display": true
  }
 },
 "nbformat": 4,
 "nbformat_minor": 5
}
