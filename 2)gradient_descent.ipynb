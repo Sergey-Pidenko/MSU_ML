{
 "cells": [
  {
   "cell_type": "markdown",
   "id": "146d8506",
   "metadata": {
    "toc": true
   },
   "source": [
    "<h1>Table of Contents<span class=\"tocSkip\"></span></h1>\n",
    "<div class=\"toc\"><ul class=\"toc-item\"></ul></div>"
   ]
  },
  {
   "cell_type": "markdown",
   "id": "2d1bf41e",
   "metadata": {},
   "source": [
    "# Градиентный спуск\n",
    "\n",
    "В этом задании нам предстоит реализовать классический алгоритм градиентного спуска для обучения модели логистической регрессии.\n",
    "\n",
    "Алгоритм выполнения этого задания следующий:\n",
    "\n",
    "* На основе посчитанных в первом задании частных производных, напишем функцию подсчета градиента бинарной кросс-энтропии по параметрам модели\n",
    "\n",
    "* Напишем функцию обновления весов по посчитанным градиентам \n",
    "\n",
    "* Напишем функцию тренировки модели\n",
    "\n",
    "Замечание:\n",
    "Тренировка модели проводится в несколько циклов, в рамках каждого из которых мы обновим веса модели, основываясь на предсказании для **каждого** объекта из датасета. Такие циклы называются *эпохами*. То есть одна эпоха - это набор обновлений весов, реализованный согласно посчитанным для каждого объекта из датасета ошибкам модели.\n",
    "\n",
    "Вам необходимо реализовать обучение модели в несколько эпох. Их количество задается параметром функции. В рамках каждой эпохи необходимо пройти циклом по всем объектам обучающей выборки и обновить веса модели."
   ]
  },
  {
   "cell_type": "code",
   "execution_count": 1,
   "id": "266c4819",
   "metadata": {},
   "outputs": [],
   "source": [
    "import numpy as np"
   ]
  },
  {
   "cell_type": "code",
   "execution_count": 2,
   "id": "cb2cb8a9",
   "metadata": {},
   "outputs": [],
   "source": [
    "# Функция подсчета градиента\n",
    "def gradient(y_true: int, y_pred: float, x: np.array) -> np.array:\n",
    "#   \"\"\"\n",
    "#     y_true - истинное значение ответа для объекта x\n",
    "#     y_pred - значение степени принадлежности объекта x классу 1, предсказанное нашей моделью\n",
    "#     x - вектор признакового описания данного объекта\n",
    "\n",
    "#     На выходе ожидается получить вектор частных производных H по параметрам модели, предсказавшей значение y_pred\n",
    "#     Обратите внимание, что размерность этого градиента должна получиться на единицу больше размерности \n",
    "#     x засчет своободного коэффициента a0\n",
    "#   \"\"\"\n",
    "    grad = np.concatenate([x, [1]]) * (y_pred * (1 - y_true) - y_true * (1 - y_pred))\n",
    "    return grad\n",
    "\n",
    "\n",
    "# Функция обновления весов\n",
    "def update(alpha: np.array, gradient: np.array, lr: float):\n",
    "#   \"\"\"\n",
    "#   alpha: текущее приближения вектора параметров модели\n",
    "#   gradient: посчитанный градиент по параметрам модели\n",
    "#   lr: learning rate, множитель перед градиентом в формуле обновления параметров\n",
    "#   \"\"\"\n",
    "    alpha_new = alpha - gradient * lr\n",
    "    return alpha_new\n",
    "\n",
    "#функция тренировки модели\n",
    "def train(alpha0: np.array, x_train: np.array, y_train: np.array, lr: float, num_epoch: int):\n",
    "#   \"\"\"\n",
    "#   alpha0 - начальное приближение параметров модели\n",
    "#   x_train - матрица объект-признак обучающей выборки\n",
    "#   y_train - верные ответы для обучающей выборки\n",
    "#   lr - learning rate, множитель перед градиентом в формуле обновления параметров\n",
    "#   num_epoch - количество эпох обучения, то есть полных 'проходов' через весь датасет\n",
    "#   \"\"\"\n",
    "    alpha = alpha0.copy()\n",
    "    for epo in range(num_epoch):\n",
    "        for i,x in enumerate(x_train):\n",
    "            fx = alpha @ np.concatenate([x_train[i], [1]])\n",
    "            p = 1 / (1 + np.exp(-fx))\n",
    "            alpha = update(alpha, gradient(y_train[i], p, x_train[i]), lr)\n",
    "      #TODO: write your code here\n",
    "    return alpha"
   ]
  }
 ],
 "metadata": {
  "kernelspec": {
   "display_name": "Python 3 (ipykernel)",
   "language": "python",
   "name": "python3"
  },
  "language_info": {
   "codemirror_mode": {
    "name": "ipython",
    "version": 3
   },
   "file_extension": ".py",
   "mimetype": "text/x-python",
   "name": "python",
   "nbconvert_exporter": "python",
   "pygments_lexer": "ipython3",
   "version": "3.9.7"
  },
  "toc": {
   "base_numbering": 1,
   "nav_menu": {},
   "number_sections": true,
   "sideBar": true,
   "skip_h1_title": true,
   "title_cell": "Table of Contents",
   "title_sidebar": "Contents",
   "toc_cell": true,
   "toc_position": {},
   "toc_section_display": true,
   "toc_window_display": false
  }
 },
 "nbformat": 4,
 "nbformat_minor": 5
}
